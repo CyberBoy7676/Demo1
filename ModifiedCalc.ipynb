{
 "cells": [
  {
   "cell_type": "code",
   "execution_count": null,
   "metadata": {},
   "outputs": [],
   "source": [
    "def add(a,b):\n",
    "    return a+b\n",
    "def subtract(a,b):\n",
    "    return a-b\n",
    "def multiply(a,b):\n",
    "    return a*b\n",
    "def divide(a,b):\n",
    "    return a/b\n",
    "def power(a,b):\n",
    "    return a**b\n",
    "print(\"1. Add\")\n",
    "print(\"2. Subtract\")\n",
    "print(\"3. Multiply\")\n",
    "print(\"4. Divide\")\n",
    "print(\"Power of a Number\")\n",
    "while True:\n",
    "    operater = input(\"Select any option from (1,2,3,4,5): \")\n",
    "    if operater in (\"1\",\"2\",\"3\",\"4\",\"5\"):\n",
    "        input1 = int(input(\"Enter the first Number: \"))\n",
    "        input2 = int(input(\"Enter the Second Number: \"))\n",
    "        if operater ==\"1\":\n",
    "            print(input1,\"+\",input2,\" = \",add(input1,input2))\n",
    "        if operater ==\"2\":\n",
    "            print(input1,\"-\",input2,\" = \" ,subtract(input1,input2))\n",
    "        if operater ==\"3\":\n",
    "            print(input1,\"*\",input2,\" = \",multiply(input1,input2) )\n",
    "        if operater ==\"4\":\n",
    "            print(input1,\"/\",input2,\" = \",divide(input1,input2))\n",
    "        if operater ==\"5\":\n",
    "            print(input1,\"**\",input2,\" = \",power(input1,input2))\n",
    "        break\n",
    "      \n",
    "        \n",
    "        \n",
    "    "
   ]
  }
 ],
 "metadata": {
  "kernelspec": {
   "display_name": "Python 3",
   "language": "python",
   "name": "python3"
  },
  "language_info": {
   "codemirror_mode": {
    "name": "ipython",
    "version": 3
   },
   "file_extension": ".py",
   "mimetype": "text/x-python",
   "name": "python",
   "nbconvert_exporter": "python",
   "pygments_lexer": "ipython3",
   "version": "3.6.9"
  }
 },
 "nbformat": 4,
 "nbformat_minor": 4
}
